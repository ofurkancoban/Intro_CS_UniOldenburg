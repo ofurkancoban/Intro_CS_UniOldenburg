{
 "cells": [
  {
   "metadata": {},
   "cell_type": "markdown",
   "source": "# *Furkan Çoban*",
   "id": "a477777ac2ab1091"
  },
  {
   "metadata": {},
   "cell_type": "markdown",
   "source": [
    "# Task Sheet 1: Writing your first Python scripts\n",
    "For all tasks, ensure:\n",
    "\n",
    "You may only use concepts which have been taught in class so far!\n",
    "Comment your scripts!\n",
    "In the header, state\n",
    "the name of your team and the names of the team members\n",
    "the date and\n",
    "a short description of the objective of this script\n",
    "in the script add short explanations which make the script easier to understand, e.g.\n",
    "meaning or purpose of variables\n",
    "purpose of more complex statements\n",
    "Period: 04.04.2024, 10:00 – 15.04.2024, 18:00\n"
   ],
   "id": "d6ad4a612dee4795"
  },
  {
   "cell_type": "markdown",
   "id": "99bdac43b14fa1e4",
   "metadata": {},
   "source": [
    "# Task 1. Python - What date and time is it in minutes? (3 Points)\n",
    "Write a Python program, which\n",
    "\n",
    "* lets the user enter a date and a time:\n",
    "  * Enter year, month, day, hour, minute with separate input-calls. e.g.\n",
    "  * year = input(\"Enter the year: \")\n",
    "  * month = input( .. )\n",
    "...\n",
    "* converts the answers into int-numbers\n",
    "* computes the number of minutes since 01.01.0000 00:00\n",
    "  * We work with a simplified calendar:\n",
    "  * assume that each month has exactly 30 days!\n",
    "* print the result. The output should look like this\n",
    "\n",
    "\n",
    "* Please enter the year: 2023\n",
    "* Please enter the month (as int): 10\n",
    "* Please enter the day: 19\n",
    "* Please enter the hour: 17\n",
    "* Please enter the minute: 23\n",
    "* Result: 19.10.2023 17:23 h =  1049183603 minutes."
   ]
  },
  {
   "cell_type": "markdown",
   "id": "9a3b4564f407d657",
   "metadata": {},
   "source": [
    "Hints:\n",
    "Hints:\n",
    "In this task, you exercise\n",
    "\n",
    "* to enter data (input-function)\n",
    "* to print a message, consisting of constant text and values\n",
    "* to use calculate an arthmetic result\n",
    "* to assign the input of an input function and the result of an expression to a varaible\n",
    "* to convert Strings into integer values (int(.))\n"
   ]
  },
  {
   "cell_type": "code",
   "id": "a33859f670b44da0",
   "metadata": {
    "jupyter": {
     "is_executing": true
    }
   },
   "source": [
    "# Timetracker\n",
    "# Omer Furkan Coban\n",
    "# SoSe 24\n",
    "\n",
    "# Here I get inputs as an integer from user as year, month, day, hour, minutes variables.\n",
    "\n",
    "year = int(input(\"Enter the year:\"))\n",
    "month = int(input(\"Enter the month:\"))\n",
    "day = int(input(\"Enter the day:\"))\n",
    "hour = int(input(\"Enter the hour:\"))\n",
    "minutes = int(input(\"Enter the minutes:\"))\n",
    "\n",
    "\n",
    "# Calculation of minutes\n",
    "\n",
    "result_minutes = ( ( ( year * 12 + month ) * 30 + day ) * 24 + hour ) * 60 + minutes\n",
    "\n",
    "print(f\"Result: {day}.{month}.{year}  {hour}:{minutes}: It has been {result_minutes} minutes since we began counting.\")"
   ],
   "outputs": [],
   "execution_count": null
  },
  {
   "metadata": {},
   "cell_type": "markdown",
   "source": "# Task 2. Sensor Data project (2 Points)",
   "id": "4785bee2eed02b03"
  },
  {
   "metadata": {},
   "cell_type": "markdown",
   "source": [
    "Sensors are everywhere! They measure temperature, air conditions, velocities, …\n",
    "\n",
    "We want to model a sensor, which measures a certain attribute in a regular time interval.\n",
    "\n",
    "* For describing the sensor, we need at least\n",
    " * the name of the sensor, e.g. \"NO2\" if it measures NO2-values\n",
    " * the unit of the measured values, e.g. μg/m³ or ppm\n",
    " * the time interval (time step), in which this sensor sends new data\n",
    "For describing each measurement, we need at least\n",
    " * the measured value,\n",
    " * the date (day, month, year), and\n",
    " * the time (hour, minute) of each measurement  \n",
    " \n",
    "__Write a Python script that__\n",
    "\n",
    "* lets the user enter all these values,\n",
    "* stores the measurements\n",
    " * date and time values as integer,\n",
    " * the value as float,\n",
    " * and the name and unit as String,\n",
    "and prints them.\n",
    "The interaction should look like this: \n",
    "\n",
    "* Welcome to the Sensor Data Management App (V0)!\n",
    "* Please enter ...\n",
    "     * the name of the sensor: Temperature \n",
    "     * the unit of the sensor's measurements: °C\n",
    "     * the time step of the measurements (in minutes): 1234\n",
    "* The time span between measurements is 0 days 20 hours 34 minutes.\n",
    "* Please enter ...\n",
    "     * the year of the measurement: 2023\n",
    "     * the month (as int) of the measurement: 10\n",
    "     * the day of the measurement: 23\n",
    "     * the hour of the measurement: 16\n",
    "     * the minute of the measurement: 0\n",
    "     * the measured value (float): 12.5\n",
    "* Sensor 'Temperature' measured 12.5°C on 23.10.2023 at 16:0.\n",
    "\n"
   ],
   "id": "8db27ca7a4e86e94"
  },
  {
   "metadata": {},
   "cell_type": "markdown",
   "source": [
    "## Hints:\n",
    "In this task you exercise\n",
    "\n",
    "input and output\n",
    "explicit type conversion\n",
    "formatted Strings\n",
    "integer number division (//, %)"
   ],
   "id": "8cddc198342a30ef"
  },
  {
   "metadata": {
    "jupyter": {
     "is_executing": true
    }
   },
   "cell_type": "code",
   "source": [
    "# Printing welcome message\n",
    "print(\"Welcome to the Sensor Data Management App (V0)!\")\n",
    "print(\"Please enter ...\")\n",
    "\n",
    "# We are getting inputs from user such as name of the sensor, unit and time step.\n",
    "sensor_name=str(input(\"The name of the sensor:\"))\n",
    "unit= str(input(\"The unit of the sensor's measurements:\"))\n",
    "time_step = int(input(\"The time step of the mesurement (in minutes):\"))\n",
    "\n",
    "# We are calculating here the time span between measurement\n",
    "\n",
    "day= time_step//(24*60)\n",
    "hour = (time_step % (24*60))//60\n",
    "minute = time_step % 60\n",
    "\n",
    "print(f\"The time span between measurements is {day} days {hour} hours {minute} minutes.\")\n",
    "\n",
    "print(\"Please enter ...\")\n",
    "\n",
    "# We are getting inputs from user such as name of the date, time and measured value.\n",
    "\n",
    "year=int(input(\"The year of the measurement:\"))\n",
    "month=int(input(\"The month (as int) of the measurement:\"))\n",
    "day=int(input(\"The day of the measurement:\"))\n",
    "hour=int(input(\"The hour of the measurement:\"))\n",
    "minutes=int(input(\"The minute of the measurement:\"))\n",
    "measurement=float(input (\"The measured value (float):\"))\n",
    "\n",
    "print(f\"Sensor {sensor_name} measured {measurement} {unit} on {day}.{month}.{year} at {hour}:{minutes}.\")"
   ],
   "id": "61a0ca031cbd21f7",
   "outputs": [],
   "execution_count": null
  },
  {
   "metadata": {},
   "cell_type": "markdown",
   "source": "# Task 3. Noisy animals (3 Points)",
   "id": "3f4fb21286a4de6f"
  },
  {
   "metadata": {},
   "cell_type": "markdown",
   "source": [
    "Write a script animalnoise.py that\n",
    "\n",
    "let the user enter the name of an animal species, e.g. dog, cat, bird,…\n",
    "prints what kind of noise this animal makes.\n",
    "If it is a new animal, the script should print an appropriate message.\n",
    "\n",
    "The output should look similar to that:  \n",
    "Take care to put the noise in quotation marks '…' \n",
    "\n",
    ">>> %Run animalnoise.py\n",
    "What kind of animal do you have? dog\n",
    "A dog makes 'wuff'.\n",
    "or\n",
    "\n",
    ">>> %Run animalnoise.py\n",
    "What kind of animal do you have? bird\n",
    "A bird sings 'piep'.\n",
    "or  (for an unknown animal)\n",
    "\n",
    ">>> %Run animalnoise.py\n",
    "What kind of animal do you have? crocodile\n",
    "I do not know what kind of noise a crocodile makes.\n",
    "Feel free to put as many animals into your script as you like, but your script should be able to print the noise of at least three different animals.\n",
    "\n",
    "Hints:\n",
    "In this task you exercise\n",
    "\n",
    "to use the if-elif-Statement to switch between different cases (different animal species)"
   ],
   "id": "493bf9649236001a"
  },
  {
   "metadata": {},
   "cell_type": "code",
   "outputs": [],
   "execution_count": null,
   "source": [
    "# Noisy Animals\n",
    "# Omer Furkan Coban\n",
    "# SoSe 24\n",
    "\n",
    "# Ask user to enter an animal\n",
    "animal = input(\"What kind of animal do you have? \")\n",
    "\n",
    "# Using if-elif-else to determine the animal noise\n",
    "if animal == \"dog\":\n",
    "    print(\"A dog makes 'wuff'.\")\n",
    "elif animal == \"cat\":\n",
    "    print(\"A cat says 'meow'.\")\n",
    "elif animal == \"bird\":\n",
    "    print(\"A bird sings 'piep'.\")\n",
    "elif animal == \"sheep\":\n",
    "    print(\"A sheep says 'baa'.\")\n",
    "elif animal == \"cow\":\n",
    "    print(\"A cow says 'moo'.\")\n",
    "# If the animal is not known, print an unknown message\n",
    "else:\n",
    "    print(f\"I do not know what kind of noise a {animal} makes.\")"
   ],
   "id": "149b4dfb6673721d"
  },
  {
   "metadata": {},
   "cell_type": "markdown",
   "source": [
    "# Task 4. Converting a number into date and time (3 points)\n",
    "We assume a simple calendar with all months having 30 days.\n",
    "\n",
    "Write a script\n",
    "\n",
    "* let the user enter a number (which represents a time span from 01.01.0000 in minutes)\n",
    "* convert the number into an int-value\n",
    "* compute the represented date and time\n",
    " \n",
    "\n",
    "The output should look like this\n",
    "\n",
    "This script transforms a positive integer number into years, months, days, hours and minutes since 01.01.0000.\n",
    "Please enter an int-number>0: 1049190255\n",
    "Result: 1049190255 minutes = 2023 years, 10 months, 24 days, 8 hours, and 15 minutes."
   ],
   "id": "19d69e1004d51543"
  },
  {
   "metadata": {},
   "cell_type": "markdown",
   "source": [
    "Hints:\n",
    "In this task you exercise\n",
    "\n",
    "* entering values and printing messages\n",
    "* converting Strings to int-numbers\n",
    "* Expressions with multiplication and integer division (//) and remainder (%)\n",
    "* variables and assignments\n",
    "* if-statement (optionally)"
   ],
   "id": "d438fb32d5585eb1"
  },
  {
   "metadata": {},
   "cell_type": "code",
   "outputs": [],
   "execution_count": null,
   "source": [
    "# We get the a number as an integer\n",
    "number_minutes = int(input(\"Enter a number: \"))\n",
    "\n",
    "# We added an if-else condition to ensure that the entered number is greater than 0. If the entered number is less than or equal to 0, the program will not run and a warning will be printed stating that a number greater than 0 must be entered.\n",
    "if number_minutes <= 0:\n",
    "    print(\"Please enter a number greater than 0.\")\n",
    "else:\n",
    "    # We converted minutes into hours, days, months, and years.\n",
    "    hours = number_minutes // 60\n",
    "    days = hours // 24\n",
    "    months = days // 30\n",
    "    years = months // 12\n",
    "\n",
    "    # We calculated the remaining months, days, hours, and minutes\n",
    "    remaining_months = months % 12\n",
    "    remaining_days = days % 30\n",
    "    remaining_hours = hours % 24\n",
    "    remaining_minutes = number_minutes % 60 \n",
    "\n",
    "    # Print the result\n",
    "    print(f\"Result: {number_minutes} minutes = {years} years, {remaining_months} months, {remaining_days} days, {remaining_hours} hours, and {remaining_minutes} minutes.\")"
   ],
   "id": "6763b94695fb8c72"
  }
 ],
 "metadata": {
  "kernelspec": {
   "display_name": "Python 3 (ipykernel)",
   "language": "python",
   "name": "python3"
  },
  "language_info": {
   "codemirror_mode": {
    "name": "ipython",
    "version": 2
   },
   "file_extension": ".py",
   "mimetype": "text/x-python",
   "name": "python",
   "nbconvert_exporter": "python",
   "pygments_lexer": "ipython2",
   "version": "2.7.6"
  }
 },
 "nbformat": 4,
 "nbformat_minor": 5
}
