{
 "cells": [
  {
   "metadata": {},
   "cell_type": "markdown",
   "source": "# *Furkan Çoban*",
   "id": "382307cae47386cd"
  },
  {
   "metadata": {},
   "cell_type": "markdown",
   "source": [
    "### Task 1: Variables and Assignments (Max Point:2)\n",
    "\n",
    "Assume that variable a has value 4 and variable b has value 2.\n",
    "Consider the following assignment statement:\n",
    "\n",
    "a = (a - b) * b + a\n",
    "\n",
    "Which of the following statements are true?\n",
    "\n",
    "- The assignment statement is not correct because variable a is used on the left and on the right of the \"=\".\n",
    "- After execution variable a equals 8 ( a == 8).✅\n",
    "- After execution variable a equals 2 ( a == 2).\n",
    "- ️After execution variable b equals 4 (b == 4).\n",
    "- Variable b doesn't change its value, because it's only on the right hand-side of the assignment.✅"
   ],
   "id": "614bac44fb15bba7"
  },
  {
   "cell_type": "code",
   "outputs": [
    {
     "name": "stdout",
     "output_type": "stream",
     "text": [
      "8\n",
      "2\n"
     ]
    }
   ],
   "source": [
    "a = 4\n",
    "b = 2\n",
    "a = (a - b) * b + a\n",
    "\n",
    "print(a)\n",
    "print(b)"
   ],
   "metadata": {
    "collapsed": false,
    "ExecuteTime": {
     "end_time": "2024-04-04T09:15:52.477267Z",
     "start_time": "2024-04-04T09:15:52.473672Z"
    }
   },
   "id": "935e6ec08e890f33",
   "execution_count": 12
  },
  {
   "cell_type": "markdown",
   "source": [
    "### Task 2: Variables and Type\n",
    "### Which statements are correct? \n",
    "\n",
    "- A variable refers a value.✅\n",
    "- The value of a variable can not be changed.\n",
    "- You can assign a new value to a variable by an assignment statement.✅\n",
    "- 6 + 37 = c assigns the value 43 to variable c.\n",
    "- The type of a variable in Python is given by the type of its value.✅\n",
    "- The type of a variable in Python may change.✅"
   ],
   "metadata": {
    "collapsed": false
   },
   "id": "9294e5f6a23a1ba6"
  },
  {
   "cell_type": "markdown",
   "source": [
    "### Task 3: Strings\n",
    "Which of the following assignments are syntactically correct? In these assignments, a String which contains quotation marks shall be assigned to variable a.\n",
    "\n",
    "**A Python statement is syntactically correct if the Python interpreter evaluates it without an error.**\n",
    "\n",
    "We will later in the course see, how the syntax rules of programming languages can be formally defined .\n",
    "\n",
    "- a = \"Always use the assignment operator \"=\" for storing values in variables\"\n",
    "- a = \"Always use the assignment operator '=' for storing values in variables\"✅\n",
    "- a = 'Always use the assignment operator \"=\" for storing values in variables'✅"
   ],
   "metadata": {
    "collapsed": false
   },
   "id": "f17112951abc1a51"
  },
  {
   "cell_type": "markdown",
   "source": [
    "### Task 4: Just a fun fact\n",
    "Why is Python named \"Python\"?\n",
    "\n",
    " - The Python language is named after the snake with this name because Python programs also tend to be very long...\n",
    " - The name has been given in honour to the old British comedy group \"Monty Python's Flying Circus\". ✅\n",
    " - Computer Scientists love acronyms: PYTHON means \"Program Your THOughts Nicely\"."
   ],
   "metadata": {
    "collapsed": false
   },
   "id": "285fdf48ca17973f"
  },
  {
   "cell_type": "code",
   "outputs": [],
   "source": [],
   "metadata": {
    "collapsed": false
   },
   "id": "e3413ccbc418d197",
   "execution_count": null
  }
 ],
 "metadata": {
  "kernelspec": {
   "display_name": "Python 3",
   "language": "python",
   "name": "python3"
  },
  "language_info": {
   "codemirror_mode": {
    "name": "ipython",
    "version": 2
   },
   "file_extension": ".py",
   "mimetype": "text/x-python",
   "name": "python",
   "nbconvert_exporter": "python",
   "pygments_lexer": "ipython2",
   "version": "2.7.6"
  }
 },
 "nbformat": 4,
 "nbformat_minor": 5
}
